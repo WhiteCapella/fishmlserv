{
 "cells": [
  {
   "cell_type": "code",
   "execution_count": null,
   "id": "7b0d6c54-bea2-4243-a2fe-c0ed0737a432",
   "metadata": {},
   "outputs": [],
   "source": [
    "import pandas as pd\n",
    "import matplotlib.pyplot as plt\n",
    "from sklearn.neighbors import KNeighborsClassifier\n",
    "import os\n",
    "import pickle\n",
    "\n",
    "\n",
    "path = \"modeldata.csv\"\n",
    "\n",
    "df = pd.read_csv(path)\n",
    "fish_data = []\n",
    "fish_target = []\n",
    "for index, row in df.iterrows():\n",
    "    fish_data.append([row['Length'], row['Weight']])\n",
    "    if row['Label'] == \"Bream\":\n",
    "        fish_target.append(1)\n",
    "    else:\n",
    "        fish_target.append(0)\n",
    "kn=KNeighborsClassifier(n_neighbors=5)\n",
    "kn.fit(fish_data, fish_target)\n",
    "\n",
    "with open(\"model.pkl\", \"wb\") as f:\n",
    "    pickle.dump(kn, f)"
   ]
  },
  {
   "cell_type": "code",
   "execution_count": null,
   "id": "c125a946-643c-4e88-bb45-856482f084c6",
   "metadata": {},
   "outputs": [],
   "source": []
  }
 ],
 "metadata": {
  "kernelspec": {
   "display_name": "Python 3 (ipykernel)",
   "language": "python",
   "name": "python3"
  },
  "language_info": {
   "codemirror_mode": {
    "name": "ipython",
    "version": 3
   },
   "file_extension": ".py",
   "mimetype": "text/x-python",
   "name": "python",
   "nbconvert_exporter": "python",
   "pygments_lexer": "ipython3",
   "version": "3.11.9"
  }
 },
 "nbformat": 4,
 "nbformat_minor": 5
}
