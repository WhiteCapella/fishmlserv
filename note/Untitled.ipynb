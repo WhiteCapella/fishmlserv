{
 "cells": [
  {
   "cell_type": "code",
   "execution_count": 14,
   "id": "560a7256-8caa-4fd3-810e-47ff5c97f044",
   "metadata": {},
   "outputs": [
    {
     "ename": "TypeError",
     "evalue": "zip() takes 0 positional arguments but 2 were given",
     "output_type": "error",
     "traceback": [
      "\u001b[0;31m---------------------------------------------------------------------------\u001b[0m",
      "\u001b[0;31mTypeError\u001b[0m                                 Traceback (most recent call last)",
      "Cell \u001b[0;32mIn[14], line 46\u001b[0m\n\u001b[1;32m     43\u001b[0m     r \u001b[38;5;241m=\u001b[39m kn\u001b[38;5;241m.\u001b[39mpredict([[\u001b[38;5;241m30.1\u001b[39m, \u001b[38;5;241m600.123\u001b[39m]])\n\u001b[1;32m     44\u001b[0m     \u001b[38;5;28mprint\u001b[39m(r)\n\u001b[0;32m---> 46\u001b[0m \u001b[43mpredict\u001b[49m\u001b[43m(\u001b[49m\u001b[43m)\u001b[49m\n",
      "Cell \u001b[0;32mIn[14], line 34\u001b[0m, in \u001b[0;36mpredict\u001b[0;34m()\u001b[0m\n\u001b[1;32m     32\u001b[0m fish_data \u001b[38;5;241m=\u001b[39m []\n\u001b[1;32m     33\u001b[0m fish_target \u001b[38;5;241m=\u001b[39m []\n\u001b[0;32m---> 34\u001b[0m \u001b[38;5;28;01mfor\u001b[39;00m l, w \u001b[38;5;129;01min\u001b[39;00m \u001b[38;5;28;43mzip\u001b[39;49m\u001b[43m(\u001b[49m\u001b[43mlength\u001b[49m\u001b[43m,\u001b[49m\u001b[43mweight\u001b[49m\u001b[43m)\u001b[49m:\n\u001b[1;32m     35\u001b[0m     fish_data\u001b[38;5;241m.\u001b[39mappend([l,w])\n\u001b[1;32m     37\u001b[0m fish_target \u001b[38;5;241m=\u001b[39m [\u001b[38;5;241m1\u001b[39m] \u001b[38;5;241m*\u001b[39m \u001b[38;5;241m35\u001b[39m \u001b[38;5;241m+\u001b[39m [\u001b[38;5;241m0\u001b[39m] \u001b[38;5;241m*\u001b[39m \u001b[38;5;241m14\u001b[39m\n",
      "\u001b[0;31mTypeError\u001b[0m: zip() takes 0 positional arguments but 2 were given"
     ]
    }
   ],
   "source": [
    "import matplotlib.pyplot as plt\n",
    "from sklearn.neighbors import KNeighborsClassifier\n",
    "def zip():  \n",
    "    bream_length = [25.4, 26.3, 26.5, 29.0, 29.0, 29.7, 29.7, 30.0, 30.0, 30.7, 31.0, 31.0, 31.5, 32.0, 32.0, 32.0, 33.0, 33.0, 33.5, 33.5, 34.0, 34.0, 34.5, 35.0, 35.0, 35.0, 35.0, 36.0, 36.0, 37.0, 38.5, 38.5, 39.5, 41.0, 41.0]\n",
    "    bream_weight = [242.0, 290.0, 340.0, 363.0, 430.0, 450.0, 500.0, 390.0, 450.0, 500.0, 475.0, 500.0, 500.0, 340.0, 600.0, 600.0, 700.0, 700.0, 610.0, 650.0, 575.0, 685.0, 620.0, 680.0, 700.0, 725.0, 720.0, 714.0, 850.0, 1000.0, 920.0, 955.0, 925.0, 975.0, 950.0]\n",
    "\n",
    "    smelt_length = [9.8, 10.5, 10.6, 11.0, 11.2, 11.3, 11.8, 11.8, 12.0, 12.2, 12.4, 13.0, 14.3, 15.0]\n",
    "    smelt_weight = [6.7, 7.5, 7.0, 9.7, 9.8, 8.7, 10.0, 9.9, 9.8, 12.2, 13.4, 12.2, 19.7, 19.9]\n",
    "\n",
    "    plt.scatter(bream_length, bream_weight)\n",
    "    plt.xlabel('length')\n",
    "    plt.ylabel('weight')\n",
    "    plt.show()\n",
    "\n",
    "    plt.scatter(smelt_length, smelt_weight)\n",
    "    plt.xlabel('length')\n",
    "    plt.ylabel('weight')                                                                                                                                               \n",
    "    plt.show()\n",
    "\n",
    "    length = bream_length + smelt_length\n",
    "    weight = bream_weight + smelt_weight\n",
    "    len(bream_length)\n",
    "    len(smelt_length)\n",
    "\n",
    "    len(bream_weight)\n",
    "    len(smelt_weight)\n",
    "\n",
    "def predict():\n",
    "    kn = KNeighborsClassifier()\n",
    "\n",
    "\n",
    "    fish_data = []\n",
    "    fish_target = []\n",
    "    for l, w in zip(length,weight):\n",
    "        fish_data.append([l,w])\n",
    "\n",
    "    fish_target = [1] * 35 + [0] * 14\n",
    "\n",
    "    # feed data at ML\n",
    "    kn.fit(fish_data, fish_target)\n",
    "\n",
    "    # predict\n",
    "    r = kn.predict([[30.1, 600.123]])\n",
    "    print(r)\n",
    "\n",
    "### export model\n",
    "import pickle\n",
    "\n",
    "with open(\"model.pkl\", \"wb\") as f:\n",
    "    pickle(kn, f)\n",
    "\n",
    "### import model\n",
    "with open(\"model.pkl\", \"rb\") as f:\n",
    "    fish_model = pickle.load(f)\n",
    "\n",
    "fish_model.predict([[30.1, 600.154]])"
   ]
  },
  {
   "cell_type": "code",
   "execution_count": 11,
   "id": "d8073932-4499-4cfc-9700-de01145224f4",
   "metadata": {},
   "outputs": [
    {
     "ename": "ValueError",
     "evalue": "too many values to unpack (expected 2)",
     "output_type": "error",
     "traceback": [
      "\u001b[0;31m---------------------------------------------------------------------------\u001b[0m",
      "\u001b[0;31mValueError\u001b[0m                                Traceback (most recent call last)",
      "Cell \u001b[0;32mIn[11], line 14\u001b[0m\n\u001b[1;32m     12\u001b[0m fish_data \u001b[38;5;241m=\u001b[39m []\n\u001b[1;32m     13\u001b[0m fish_target \u001b[38;5;241m=\u001b[39m []\n\u001b[0;32m---> 14\u001b[0m \u001b[38;5;28;01mfor\u001b[39;00m l, w \u001b[38;5;129;01min\u001b[39;00m (length,weight):\n\u001b[1;32m     15\u001b[0m     fish_data\u001b[38;5;241m.\u001b[39mappend([l,w])\n\u001b[1;32m     17\u001b[0m fish_target \u001b[38;5;241m=\u001b[39m [\u001b[38;5;241m1\u001b[39m] \u001b[38;5;241m*\u001b[39m \u001b[38;5;241m35\u001b[39m \u001b[38;5;241m+\u001b[39m [\u001b[38;5;241m0\u001b[39m] \u001b[38;5;241m*\u001b[39m \u001b[38;5;241m14\u001b[39m\n",
      "\u001b[0;31mValueError\u001b[0m: too many values to unpack (expected 2)"
     ]
    }
   ],
   "source": []
  }
 ],
 "metadata": {
  "kernelspec": {
   "display_name": "Python 3 (ipykernel)",
   "language": "python",
   "name": "python3"
  },
  "language_info": {
   "codemirror_mode": {
    "name": "ipython",
    "version": 3
   },
   "file_extension": ".py",
   "mimetype": "text/x-python",
   "name": "python",
   "nbconvert_exporter": "python",
   "pygments_lexer": "ipython3",
   "version": "3.11.9"
  }
 },
 "nbformat": 4,
 "nbformat_minor": 5
}
