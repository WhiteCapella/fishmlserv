{
 "cells": [
  {
   "cell_type": "code",
   "execution_count": null,
   "id": "3c994af9-ce54-4c6b-843b-baef6f4011df",
   "metadata": {},
   "outputs": [],
   "source": []
  }
 ],
 "metadata": {
  "kernelspec": {
   "display_name": "",
   "name": ""
  },
  "language_info": {
   "name": ""
  }
 },
 "nbformat": 4,
 "nbformat_minor": 5
}
